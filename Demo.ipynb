{
 "cells": [
  {
   "cell_type": "code",
   "execution_count": 31,
   "metadata": {
    "vscode": {
     "languageId": "java"
    }
   },
   "outputs": [],
   "source": [
    "import koala.*;\n",
    "import java.util.function.Predicate;\n",
    "import java.util.function.UnaryOperator;"
   ]
  },
  {
   "cell_type": "code",
   "execution_count": 43,
   "metadata": {
    "vscode": {
     "languageId": "java"
    }
   },
   "outputs": [],
   "source": [
    "//DataFrame df = IOCSV.fromCSV(\"koala/datasets/tiny_taylor.csv\", true, ',');\n",
    "DataFrame df = IOCSV.fromCSV(\"koala/datasets/tiny_taylor.csv\");"
   ]
  },
  {
   "cell_type": "code",
   "execution_count": 33,
   "metadata": {
    "vscode": {
     "languageId": "java"
    }
   },
   "outputs": [
    {
     "name": "stdout",
     "output_type": "stream",
     "text": [
      "  |  album_name  |  featuring  |  danceability  |  energy  |  speechiness  |  bonus_track  |  duration_ms  |\n",
      "------------------------------------------------------------------------------------------------------------\n",
      "0 | Taylor Swift |     NA      |      null      |  0.417   |    0.0231     |     false     |    203040     |\n",
      "1 | Taylor Swift |     NA      |     0.576      |  0.777   |    0.0324     |     false     |    199200     |\n",
      "2 | Taylor Swift |     NA      |     0.589      |  0.805   |    0.0293     |     false     |    207107     |\n",
      "3 | Taylor Swift |     NA      |     0.476      |  0.777   |    0.0289     |     false     |    242200     |\n",
      "4 | Taylor Swift |     NA      |     0.403      |  0.627   |    0.0292     |     false     |    213080     |\n",
      "5 | Taylor Swift |     NA      |      null      |  0.394   |    0.0243     |     true      |    203227     |\n",
      "6 |Fearless (T...|     NA      |     0.569      |  0.741   |    0.0282     |     false     |    241592     |\n",
      "7 |Fearless (T...|     NA      |     0.559      |  0.646   |    0.0272     |     false     |    294419     |\n",
      "8 |Fearless (T...|     NA      |     0.788      |  0.571   |    0.0296     |     false     |    254255     |\n",
      "9 |Fearless (T...|     NA      |     0.578      |  0.909   |    0.0628     |     false     |    200576     |\n",
      "10|Fearless (T...|     NA      |     0.506      |  0.444   |    0.0285     |     false     |    261843     |\n",
      "11|Fearless (T...|     NA      |     0.546      |  0.273   |    0.0308     |     false     |    267833     |\n",
      "12|Fearless (T...|     NA      |     0.432      |  0.873   |    0.0577     |     false     |    238444     |\n",
      "13|Fearless (T...|     NA      |     0.624      |  0.624   |    0.0539     |     false     |    242158     |\n",
      "14|  Speak Now   |     NA      |     0.605      |  0.787   |    0.0308     |     false     |    260933     |\n",
      "15|  Speak Now   |     NA      |     0.529      |   0.67   |    0.0303     |     false     |    293027     |\n",
      "16|  Speak Now   |     NA      |      null      |   0.95   |     0.057     |     false     |    242080     |\n",
      "17|Red (Taylor...|     NA      |     0.594      |  0.713   |    0.0503     |     false     |    295413     |\n",
      "18|Red (Taylor...|     NA      |     0.584      |  0.557   |    0.0342     |     false     |    219760     |\n",
      "19|Red (Taylor...|     NA      |     0.642      |  0.695   |    0.0281     |     false     |    230960     |\n",
      "20|Red (Taylor...|     NA      |      null      |  0.559   |    0.0264     |     false     |    244587     |\n",
      "21|Red (Taylor...|Gary Light...|     0.502      |  0.534   |    0.0278     |     false     |    299080     |\n",
      "22|Red (Taylor...|     NA      |     0.601      |  0.406   |    0.0275     |     false     |    284773     |\n",
      "23|Red (Taylor...|     NA      |     0.519      |  0.527   |    0.0274     |     false     |    238867     |\n",
      "24|Red (Taylor...|     NA      |     0.691      |  0.736   |    0.0326     |     false     |    220520     |\n",
      "\n"
     ]
    }
   ],
   "source": [
    "df.head(25)"
   ]
  },
  {
   "cell_type": "code",
   "execution_count": 34,
   "metadata": {
    "vscode": {
     "languageId": "java"
    }
   },
   "outputs": [
    {
     "name": "stdout",
     "output_type": "stream",
     "text": [
      "<class koala.DataFrame>\n",
      "Indices: 0 hasta 58\n",
      "Data de columnas (total 7 columnas): \n",
      "Columna     non-null    DataType     \n",
      "------------------------------------\n",
      "album_name  59          STRING\n",
      "featuring   4           STRING\n",
      "danceability53          DOUBLE\n",
      "energy      59          DOUBLE\n",
      "speechiness 59          DOUBLE\n",
      "bonus_track 59          BOOL\n",
      "duration_ms 59          INT\n"
     ]
    }
   ],
   "source": [
    "df.info()"
   ]
  },
  {
   "cell_type": "code",
   "execution_count": 44,
   "metadata": {
    "vscode": {
     "languageId": "java"
    }
   },
   "outputs": [
    {
     "data": {
      "text/plain": [
       "  |  album_name  |  featuring  |  danceability  |  energy  |  speechiness  |  bonus_track  |  duration_ms  |\n",
       "------------------------------------------------------------------------------------------------------------\n",
       "0 |Red (Taylor...|     NA      |     0.445      |  -0.503  |    0.0564     |     false     |    321640     |\n",
       "1 |    Lover     | The Chicks  |     0.433      |  -0.452  |    0.0641     |     false     |    201587     |\n",
       "2 |   evermore   |     NA      |     0.462      |  -0.394  |    0.0377     |     false     |    244000     |\n",
       "3 |   folklore   |     NA      |     0.313      |  -0.376  |    0.0383     |     true      |    211813     |\n",
       "4 |   evermore   |  Bon Iver   |      0.39      |  -0.364  |    0.0308     |     false     |    304107     |\n",
       "5 |Fearless (T...|     NA      |     0.546      |  -0.361  |    0.0308     |     false     |    267833     |\n",
       "6 |Red (Taylor...|     NA      |     0.623      |  -0.355  |     0.031     |     false     |    264253     |\n",
       "7 |   folklore   |     NA      |     0.644      |-0.3500...|    0.0821     |     false     |    234000     |\n",
       "8 |   evermore   |     NA      |     0.559      |   -0.3   |    0.0376     |     false     |    315147     |\n",
       "9 |     1989     |     NA      |     0.815      |  -0.257  |    0.0346     |     false     |    271000     |\n",
       "10|  Midnights   |     NA      |     0.636      |  -0.257  |    0.0708     |     false     |    174783     |\n"
      ]
     },
     "execution_count": 44,
     "metadata": {},
     "output_type": "execute_result"
    }
   ],
   "source": [
    "Double mediana = ((DoubleColumn)df.getCol(\"energy\")).median();\n",
    "UnaryOperator<Double> op = (a) -> (a - mediana);\n",
    "df = df.transformCol(\"energy\", op).sort(\"energy\", true);\n",
    "df"
   ]
  },
  {
   "cell_type": "code",
   "execution_count": 45,
   "metadata": {
    "vscode": {
     "languageId": "java"
    }
   },
   "outputs": [
    {
     "data": {
      "text/plain": [
       "  album_name  |   n    |  Mean: duration_ms  |\n",
       "----------------------------------------------\n",
       "Red (Taylor...|   12   | 260766.66666666666  |\n",
       "    Lover     |   5    |      203373.4       |\n",
       "   evermore   |   5    |      264840.2       |\n",
       "   folklore   |   4    |      236250.0       |\n",
       "Fearless (T...|   8    |      250140.0       |\n",
       "     1989     |   6    | 235195.66666666666  |\n",
       "  Midnights   |   8    |      213888.5       |\n",
       " Taylor Swift |   6    |      211309.0       |\n",
       "  Speak Now   |   3    |  265346.6666666667  |\n",
       "  reputation  |   2    |      222740.0       |\n"
      ]
     },
     "execution_count": 45,
     "metadata": {},
     "output_type": "execute_result"
    }
   ],
   "source": [
    "GroupBy gb = df.groupBy(\"album_name\").n().mean(\"duration_ms\");\n",
    "gb"
   ]
  },
  {
   "cell_type": "code",
   "execution_count": 47,
   "metadata": {
    "vscode": {
     "languageId": "java"
    }
   },
   "outputs": [
    {
     "data": {
      "text/plain": [
       "  |  album_name  |  featuring  |  danceability  |  energy  |  speechiness  |  bonus_track  |  duration_ms  |   n    |  Mean: duration_ms  |\n",
       "-------------------------------------------------------------------------------------------------------------------------------------------\n",
       "0 |Red (Taylor...|     NA      |     0.445      |  -0.503  |    0.0564     |     false     |    321640     |   12   | 260766.66666666666  |\n",
       "1 |    Lover     | The Chicks  |     0.433      |  -0.452  |    0.0641     |     false     |    201587     |   5    |      203373.4       |\n",
       "2 |   evermore   |     NA      |     0.462      |  -0.394  |    0.0377     |     false     |    244000     |   5    |      264840.2       |\n",
       "3 |   folklore   |     NA      |     0.313      |  -0.376  |    0.0383     |     true      |    211813     |   4    |      236250.0       |\n",
       "4 |   evermore   |  Bon Iver   |      0.39      |  -0.364  |    0.0308     |     false     |    304107     |   5    |      264840.2       |\n",
       "5 |Fearless (T...|     NA      |     0.546      |  -0.361  |    0.0308     |     false     |    267833     |   8    |      250140.0       |\n",
       "6 |Red (Taylor...|     NA      |     0.623      |  -0.355  |     0.031     |     false     |    264253     |   12   | 260766.66666666666  |\n",
       "7 |   folklore   |     NA      |     0.644      |-0.3500...|    0.0821     |     false     |    234000     |   4    |      236250.0       |\n",
       "8 |   evermore   |     NA      |     0.559      |   -0.3   |    0.0376     |     false     |    315147     |   5    |      264840.2       |\n",
       "9 |     1989     |     NA      |     0.815      |  -0.257  |    0.0346     |     false     |    271000     |   6    | 235195.66666666666  |\n",
       "10|  Midnights   |     NA      |     0.636      |  -0.257  |    0.0708     |     false     |    174783     |   8    |      213888.5       |\n"
      ]
     },
     "execution_count": 47,
     "metadata": {},
     "output_type": "execute_result"
    }
   ],
   "source": [
    "df = gb.unGroup();\n",
    "df"
   ]
  },
  {
   "cell_type": "code",
   "execution_count": 48,
   "metadata": {
    "vscode": {
     "languageId": "java"
    }
   },
   "outputs": [],
   "source": [
    "DataFrame df2 = IOCSV.fromCSV(\"koala/datasets/taylor_all_songs.csv\");"
   ]
  },
  {
   "cell_type": "code",
   "execution_count": 49,
   "metadata": {
    "vscode": {
     "languageId": "java"
    }
   },
   "outputs": [
    {
     "name": "stdout",
     "output_type": "stream",
     "text": [
      "   |  album_name  |   ep   |  album_release  |  track_number  |  track_name  |  artist  |  featuring  |  bonus_track  |  promotional_release  |  single_release  |...|\n",
      "----------------------------------------------------------------------------------------------------------------------------------------------------------------------\n",
      "188|  Midnights   | false  |   2022-10-21    |       18       |    Glitch    |Taylor ...|     NA      |     true      |          NA           |        NA        |...|\n",
      "189|  Midnights   | false  |   2022-10-21    |       19       |Would've Co...|Taylor ...|     NA      |     true      |          NA           |        NA        |...|\n",
      "190|  Midnights   | false  |   2022-10-21    |       20       | Dear Reader  |Taylor ...|     NA      |     true      |          NA           |        NA        |...|\n",
      "191|  Midnights   | false  |   2022-10-21    |       14       |Hits Different|    NA    |     NA      |     true      |          NA           |        NA        |...|\n",
      "192|  Midnights   | false  |   2022-10-21    |       15       |You're On Y...|    NA    |     NA      |     true      |          NA           |        NA        |...|\n",
      "193|  Midnights   | false  |   2022-10-21    |       16       |Sweet Nothi...|    NA    |     NA      |     true      |          NA           |        NA        |...|\n",
      "\n"
     ]
    }
   ],
   "source": [
    "df2.tail()"
   ]
  },
  {
   "cell_type": "code",
   "execution_count": 50,
   "metadata": {
    "vscode": {
     "languageId": "java"
    }
   },
   "outputs": [
    {
     "name": "stdout",
     "output_type": "stream",
     "text": [
      "<class koala.DataFrame>\n",
      "Indices: 0 hasta 58\n",
      "Data de columnas (total 9 columnas): \n",
      "Columna            non-null    DataType     \n",
      "-------------------------------------------\n",
      "album_name         59          STRING\n",
      "featuring          4           STRING\n",
      "danceability       53          DOUBLE\n",
      "energy             59          DOUBLE\n",
      "speechiness        59          DOUBLE\n",
      "bonus_track        59          BOOL\n",
      "duration_ms        59          INT\n",
      "n                  59          INT\n",
      "Mean: duration_ms  59          DOUBLE\n"
     ]
    }
   ],
   "source": [
    "df.info()"
   ]
  },
  {
   "cell_type": "code",
   "execution_count": 51,
   "metadata": {
    "vscode": {
     "languageId": "java"
    }
   },
   "outputs": [
    {
     "data": {
      "text/plain": [
       "  |  album_name  |  featuring  |  danceability  |  energy  |  speechiness  |  bonus_track  |  duration_ms  |   n    |  Mean: duration_ms  |  track_number  |\n",
       "------------------------------------------------------------------------------------------------------------------------------------------------------------\n",
       "0 |Red (Taylor...|     NA      |     0.445      |  -0.503  |    0.0564     |     false     |    321640     |   12   | 260766.66666666666  |       3        |\n",
       "1 |    Lover     | The Chicks  |     0.433      |  -0.452  |    0.0641     |     false     |    201587     |   5    |      203373.4       |       4        |\n",
       "2 |   evermore   |     NA      |     0.462      |  -0.394  |    0.0377     |     false     |    244000     |   5    |      264840.2       |       5        |\n",
       "3 |   folklore   |     NA      |     0.313      |  -0.376  |    0.0383     |     true      |    211813     |   4    |      236250.0       |       8        |\n",
       "4 |   evermore   |  Bon Iver   |      0.39      |  -0.364  |    0.0308     |     false     |    304107     |   5    |      264840.2       |       9        |\n",
       "5 |Fearless (T...|     NA      |     0.546      |  -0.361  |    0.0308     |     false     |    267833     |   8    |      250140.0       |       11       |\n",
       "6 |Red (Taylor...|     NA      |     0.623      |  -0.355  |     0.031     |     false     |    264253     |   12   | 260766.66666666666  |       12       |\n",
       "7 |   folklore   |     NA      |     0.644      |-0.3500...|    0.0821     |     false     |    234000     |   4    |      236250.0       |       13       |\n",
       "8 |   evermore   |     NA      |     0.559      |   -0.3   |    0.0376     |     false     |    315147     |   5    |      264840.2       |       15       |\n",
       "9 |     1989     |     NA      |     0.815      |  -0.257  |    0.0346     |     false     |    271000     |   6    | 235195.66666666666  |       6        |\n",
       "10|  Midnights   |     NA      |     0.636      |  -0.257  |    0.0708     |     false     |    174783     |   8    |      213888.5       |       7        |\n"
      ]
     },
     "execution_count": 51,
     "metadata": {},
     "output_type": "execute_result"
    }
   ],
   "source": [
    "df = df.addCol(\"track_number\", df2.sample(59).getCol(\"track_number\"));\n",
    "df"
   ]
  },
  {
   "cell_type": "code",
   "execution_count": 52,
   "metadata": {
    "vscode": {
     "languageId": "java"
    }
   },
   "outputs": [
    {
     "data": {
      "text/plain": [
       "  |  album_name  |  featuring  |  danceability  |  energy  |  speechiness  |  bonus_track  |  duration_ms  |   n    |  Mean: duration_ms  |  track_number  |\n",
       "------------------------------------------------------------------------------------------------------------------------------------------------------------\n",
       "0 |Fearless (T...|     NA      |     0.624      |-0.0100...|    0.0539     |     false     |    242158     |   8    |      250140.0       |       2        |\n",
       "1 |Fearless (T...|     NA      |     0.559      |0.01200...|    0.0272     |     false     |    294419     |   8    |      250140.0       |       2        |\n",
       "2 |     1989     |     NA      |     0.422      |0.05799...|    0.0549     |     true      |    245560     |   6    | 235195.66666666666  |       2        |\n",
       "3 |Red (Taylor...|Chris Stap...|     0.391      |0.08099...|    0.0495     |     false     |    285107     |   12   | 260766.66666666666  |       2        |\n",
       "4 |Red (Taylor...|     NA      |     0.445      |  -0.503  |    0.0564     |     false     |    321640     |   12   | 260766.66666666666  |       3        |\n",
       "5 | Taylor Swift |     NA      |     0.403      |-0.0070...|    0.0292     |     false     |    213080     |   6    |      211309.0       |       3        |\n",
       "6 |Red (Taylor...|     NA      |     0.642      |0.06099...|    0.0281     |     false     |    230960     |   12   | 260766.66666666666  |       3        |\n",
       "7 |Fearless (T...|     NA      |     0.569      |0.10699...|    0.0282     |     false     |    241592     |   8    |      250140.0       |       3        |\n",
       "8 |    Lover     | The Chicks  |     0.433      |  -0.452  |    0.0641     |     false     |    201587     |   5    |      203373.4       |       4        |\n",
       "9 |  Speak Now   |     NA      |     0.605      |0.15300...|    0.0308     |     false     |    260933     |   3    |  265346.6666666667  |       4        |\n",
       "10|   evermore   |     NA      |     0.462      |  -0.394  |    0.0377     |     false     |    244000     |   5    |      264840.2       |       5        |\n"
      ]
     },
     "execution_count": 52,
     "metadata": {},
     "output_type": "execute_result"
    }
   ],
   "source": [
    "df = df.sort(new String[]{\"track_number\", \"energy\"}, true);\n",
    "df"
   ]
  },
  {
   "cell_type": "code",
   "execution_count": 53,
   "metadata": {
    "vscode": {
     "languageId": "java"
    }
   },
   "outputs": [
    {
     "data": {
      "text/plain": [
       "  album_name  |  Sum: duration_ms  |\n",
       "------------------------------------\n",
       "Fearless (T...|     2001120.0      |\n",
       "     1989     |     1411174.0      |\n",
       "Red (Taylor...|     3129200.0      |\n",
       " Taylor Swift |     1267854.0      |\n",
       "    Lover     |     1016867.0      |\n",
       "  Speak Now   |      796040.0      |\n",
       "   evermore   |     1324201.0      |\n",
       "  Midnights   |     1711108.0      |\n",
       "   folklore   |      945000.0      |\n",
       "  reputation  |      445480.0      |\n"
      ]
     },
     "execution_count": 53,
     "metadata": {},
     "output_type": "execute_result"
    }
   ],
   "source": [
    "df.groupBy(\"album_name\").sum(\"duration_ms\")"
   ]
  },
  {
   "cell_type": "code",
   "execution_count": 54,
   "metadata": {
    "vscode": {
     "languageId": "java"
    }
   },
   "outputs": [
    {
     "data": {
      "text/plain": [
       "1730284.9491525423"
      ]
     },
     "execution_count": 54,
     "metadata": {},
     "output_type": "execute_result"
    }
   ],
   "source": [
    "IntegerColumn.toIntegerColumn(df.groupBy(\"album_name\").sum(\"duration_ms\").unGroup().getCol(\"Sum: duration_ms\")).mean()"
   ]
  },
  {
   "cell_type": "code",
   "execution_count": 55,
   "metadata": {
    "vscode": {
     "languageId": "java"
    }
   },
   "outputs": [
    {
     "data": {
      "text/plain": [
       "  |  album_name  |  featuring  |  danceability  |  energy  |  speechiness  |  bonus_track  |  duration_ms  |   n    |  Mean: duration_ms  |  track_number  |\n",
       "------------------------------------------------------------------------------------------------------------------------------------------------------------\n",
       "0 |  Speak Now   |     NA      |     0.529      |0.03600...|    0.0303     |     false     |    293027     |   3    |  265346.6666666667  |       7        |\n",
       "1 |  Speak Now   |     NA      |     0.605      |0.15300...|    0.0308     |     false     |    260933     |   3    |  265346.6666666667  |       4        |\n",
       "2 |   evermore   |  Bon Iver   |      0.39      |  -0.364  |    0.0308     |     false     |    304107     |   5    |      264840.2       |       9        |\n",
       "3 |Fearless (T...|     NA      |     0.546      |  -0.361  |    0.0308     |     false     |    267833     |   8    |      250140.0       |       11       |\n",
       "4 |Red (Taylor...|     NA      |     0.623      |  -0.355  |     0.031     |     false     |    264253     |   12   | 260766.66666666666  |       12       |\n",
       "5 |     1989     |     NA      |     0.789      |   0.0    |    0.0323     |     false     |    212600     |   6    | 235195.66666666666  |       14       |\n",
       "6 | Taylor Swift |     NA      |     0.576      |0.14300...|    0.0324     |     false     |    199200     |   6    |      211309.0       |       13       |\n",
       "7 |Red (Taylor...|     NA      |     0.691      |0.10199...|    0.0326     |     false     |    220520     |   12   | 260766.66666666666  |       17       |\n",
       "8 |Red (Taylor...|     NA      |     0.584      |-0.0769...|    0.0342     |     false     |    219760     |   12   | 260766.66666666666  |       16       |\n",
       "9 |     1989     |     NA      |     0.815      |  -0.257  |    0.0346     |     false     |    271000     |   6    | 235195.66666666666  |       6        |\n",
       "10|   folklore   |     NA      |     0.387      |   0.0    |    0.0363     |     false     |    261920     |   4    |      236250.0       |       15       |\n"
      ]
     },
     "execution_count": 55,
     "metadata": {},
     "output_type": "execute_result"
    }
   ],
   "source": [
    "Predicate<Double> filtro = (a) -> (a > 0.03);\n",
    "df = df.filter(\"speechiness\", filtro).sort(\"speechiness\", true);\n",
    "df"
   ]
  },
  {
   "cell_type": "code",
   "execution_count": 56,
   "metadata": {
    "vscode": {
     "languageId": "java"
    }
   },
   "outputs": [
    {
     "data": {
      "text/plain": [
       "  |  album_name  |  featuring  |  danceability  |  energy  |  speechiness  |  bonus_track  |  duration_ms  |   n    |  Mean: duration_ms  |  track_number  |\n",
       "------------------------------------------------------------------------------------------------------------------------------------------------------------\n",
       "0 |  Speak Now   |Selena Gomez |     0.529      |0.03600...|    0.0303     |     false     |    293027     |   3    |  265346.6666666667  |       7        |\n",
       "1 |  Speak Now   |Selena Gomez |     0.605      |0.15300...|    0.0308     |     false     |    260933     |   3    |  265346.6666666667  |       4        |\n",
       "2 |   evermore   |  Bon Iver   |      0.39      |  -0.364  |    0.0308     |     false     |    304107     |   5    |      264840.2       |       9        |\n",
       "3 |Fearless (T...|Selena Gomez |     0.546      |  -0.361  |    0.0308     |     false     |    267833     |   8    |      250140.0       |       11       |\n",
       "4 |Red (Taylor...|Selena Gomez |     0.623      |  -0.355  |     0.031     |     false     |    264253     |   12   | 260766.66666666666  |       12       |\n",
       "5 |     1989     |Selena Gomez |     0.789      |   0.0    |    0.0323     |     false     |    212600     |   6    | 235195.66666666666  |       14       |\n",
       "6 | Taylor Swift |Selena Gomez |     0.576      |0.14300...|    0.0324     |     false     |    199200     |   6    |      211309.0       |       13       |\n",
       "7 |Red (Taylor...|Selena Gomez |     0.691      |0.10199...|    0.0326     |     false     |    220520     |   12   | 260766.66666666666  |       17       |\n",
       "8 |Red (Taylor...|Selena Gomez |     0.584      |-0.0769...|    0.0342     |     false     |    219760     |   12   | 260766.66666666666  |       16       |\n",
       "9 |     1989     |Selena Gomez |     0.815      |  -0.257  |    0.0346     |     false     |    271000     |   6    | 235195.66666666666  |       6        |\n",
       "10|   folklore   |Selena Gomez |     0.387      |   0.0    |    0.0363     |     false     |    261920     |   4    |      236250.0       |       15       |\n"
      ]
     },
     "execution_count": 56,
     "metadata": {},
     "output_type": "execute_result"
    }
   ],
   "source": [
    "df = df.fillNA(\"featuring\", \"Selena Gomez\");\n",
    "df "
   ]
  },
  {
   "cell_type": "code",
   "execution_count": 57,
   "metadata": {
    "vscode": {
     "languageId": "java"
    }
   },
   "outputs": [
    {
     "data": {
      "text/plain": [
       "  |  album_name  |  featuring  |  danceability  |  energy  |  speechiness  |  bonus_track  |  duration_ms  |   n    |  Mean: duration_ms  |  track_number  |\n",
       "------------------------------------------------------------------------------------------------------------------------------------------------------------\n",
       "0 | Taylor Swift |Selena Gomez |     0.576      |0.14300...|    0.0324     |     false     |    199200     |   6    |      211309.0       |       13       |\n",
       "1 |Red (Taylor...|Selena Gomez |     0.691      |0.10199...|    0.0326     |     false     |    220520     |   12   | 260766.66666666666  |       17       |\n",
       "2 |Red (Taylor...|Selena Gomez |     0.584      |-0.0769...|    0.0342     |     false     |    219760     |   12   | 260766.66666666666  |       16       |\n",
       "3 |     1989     |Selena Gomez |     0.815      |  -0.257  |    0.0346     |     false     |    271000     |   6    | 235195.66666666666  |       6        |\n",
       "4 |   folklore   |Selena Gomez |     0.387      |   0.0    |    0.0363     |     false     |    261920     |   4    |      236250.0       |       15       |\n",
       "5 |   evermore   |Selena Gomez |     0.559      |   -0.3   |    0.0376     |     false     |    315147     |   5    |      264840.2       |       15       |\n",
       "6 |   evermore   |Selena Gomez |     0.462      |  -0.394  |    0.0377     |     false     |    244000     |   5    |      264840.2       |       5        |\n",
       "7 |  Midnights   |Selena Gomez |     0.658      |  -0.256  |    0.0379     |     false     |    218271     |   8    |      213888.5       |       10       |\n",
       "8 |   folklore   |Selena Gomez |     0.313      |  -0.376  |    0.0383     |     true      |    211813     |   4    |      236250.0       |       8        |\n",
       "9 |    Lover     |Selena Gomez |     0.292      |-0.0600...|    0.0401     |     false     |    211240     |   5    |      203373.4       |       29       |\n",
       "10|   evermore   |Selena Gomez |     0.546      |0.09599...|    0.0417     |     false     |    215920     |   5    |      264840.2       |       9        |\n"
      ]
     },
     "execution_count": 57,
     "metadata": {},
     "output_type": "execute_result"
    }
   ],
   "source": [
    "df = df.slice(6, 25);\n",
    "df"
   ]
  },
  {
   "cell_type": "code",
   "execution_count": 30,
   "metadata": {
    "vscode": {
     "languageId": "java"
    }
   },
   "outputs": [],
   "source": [
    "IOCSV.toCSV(df, \"koala/datasets/presentacion.csv\")"
   ]
  },
  {
   "cell_type": "code",
   "execution_count": null,
   "metadata": {
    "vscode": {
     "languageId": "java"
    }
   },
   "outputs": [],
   "source": []
  }
 ],
 "metadata": {
  "kernelspec": {
   "display_name": "Java",
   "language": "java",
   "name": "java"
  },
  "language_info": {
   "codemirror_mode": "java",
   "file_extension": ".jshell",
   "mimetype": "text/x-java-source",
   "name": "Java",
   "pygments_lexer": "java",
   "version": "21.0.1+12-LTS-29"
  }
 },
 "nbformat": 4,
 "nbformat_minor": 2
}
